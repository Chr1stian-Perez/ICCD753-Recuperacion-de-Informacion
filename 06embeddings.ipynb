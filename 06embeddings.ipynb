{
  "cells": [
    {
      "cell_type": "markdown",
      "id": "d3f8b5c16e7eb563",
      "metadata": {
        "id": "d3f8b5c16e7eb563"
      },
      "source": [
        "# Ejercicio 6: Dense Retrieval e Introducción a FAISS\n",
        "# Autor: Christian Pérez\n",
        "\n",
        "## Objetivo de la práctica\n",
        "\n",
        "Generar embeddings con sentence-transformers (SBERT, E5), e indexar documentos con FAISS"
      ]
    },
    {
      "cell_type": "markdown",
      "id": "cdd69ed7fcbeef9d",
      "metadata": {
        "id": "cdd69ed7fcbeef9d"
      },
      "source": [
        "## Parte 0: Carga del Corpus\n",
        "### Actividad\n",
        "\n",
        "1. Carga el corpus 20 Newsgroups desde sklearn.datasets.fetch_20newsgroups.\n",
        "2. Limita el corpus a los primeros 2000 documentos para facilitar el procesamiento."
      ]
    },
    {
      "cell_type": "code",
      "execution_count": 1,
      "id": "b00fbde6cfc88b",
      "metadata": {
        "id": "b00fbde6cfc88b"
      },
      "outputs": [],
      "source": [
        "from sklearn.datasets import fetch_20newsgroups\n",
        "docs = fetch_20newsgroups(subset='all', remove=('headers', 'footers', 'quotes')).data[:2000]"
      ]
    },
    {
      "cell_type": "markdown",
      "id": "b9184f4b3e66e20a",
      "metadata": {
        "id": "b9184f4b3e66e20a"
      },
      "source": [
        "## Parte 2: Generación de Embeddings\n",
        "### Actividad\n",
        "\n",
        "1. Usa dos modelos de sentence-transformers. Puedes usar: `'all-MiniLM-L6-v2'` (SBERT), o `'intfloat/e5-base'` (E5). Cuando uses E5, antepon `\"passage: \"` a cada documento antes de codificar.\n",
        "2. Genera los vectores de embeddings para todos los documentos usando el modelo seleccionado.\n",
        "3. Guarda los embeddings en un array de NumPy para su posterior indexación."
      ]
    },
    {
      "cell_type": "code",
      "execution_count": 3,
      "id": "525ae7515c6169d9",
      "metadata": {
        "colab": {
          "base_uri": "https://localhost:8080/",
          "height": 85,
          "referenced_widgets": [
            "185e4d89b1e1474f884d86c0f8485b5f",
            "19e5227972044e79b2992b7d10e12ac6",
            "973623e67c9f4612ad6257d053f66219",
            "5dc7b59ad0f14f1f9125a1825d076ea7",
            "583f847902ae4981a2976834b9a7a10f",
            "3e3ef030850f4f4f922bfe9c02221505",
            "d6af6e2b1cdb49c1b1d715b75fc5513f",
            "eb0ec5dc3b5b4949b6697766488379d4",
            "45a1581d43ef444cb6b99fc583116083",
            "53c2b2a5ccbd4c9ab0b287206ca37353",
            "7183f16f1fcd455cb0bf81a7159020d2"
          ]
        },
        "id": "525ae7515c6169d9",
        "outputId": "603f0aa0-5658-4921-fa25-b4ea6435ee86"
      },
      "outputs": [
        {
          "data": {
            "application/vnd.jupyter.widget-view+json": {
              "model_id": "185e4d89b1e1474f884d86c0f8485b5f",
              "version_major": 2,
              "version_minor": 0
            },
            "text/plain": [
              "Batches:   0%|          | 0/63 [00:00<?, ?it/s]"
            ]
          },
          "metadata": {},
          "output_type": "display_data"
        },
        {
          "name": "stdout",
          "output_type": "stream",
          "text": [
            "Shape de embeddings: (2000, 384)\n",
            "Tipo de datos: float32\n"
          ]
        }
      ],
      "source": [
        "from sentence_transformers import SentenceTransformer\n",
        "import numpy as np\n",
        "# Cargar el modelo SBERT\n",
        "model = SentenceTransformer('all-MiniLM-L6-v2')\n",
        "# Generar embeddings para todos los documentos\n",
        "embeddings = model.encode(docs, convert_to_tensor=False, show_progress_bar=True)\n",
        "# Convertir a array de NumPy y guardar\n",
        "embeddings = np.array(embeddings)\n",
        "print(f\"Shape de embeddings: {embeddings.shape}\")\n",
        "print(f\"Tipo de datos: {embeddings.dtype}\")"
      ]
    },
    {
      "cell_type": "markdown",
      "id": "e53b50365064d2b1",
      "metadata": {
        "id": "e53b50365064d2b1"
      },
      "source": [
        "## Parte 3: Indexación con FAISS\n",
        "### Actividad\n",
        "\n",
        "1. Crea un índice plano con faiss.IndexFlatL2 para búsquedas por distancia euclidiana.\n",
        "2. Asegúrate de usar la dimensión correcta `(embedding_dim = doc_embeddings.shape[1])`.\n",
        "3. Agrega los vectores de documentos al índice."
      ]
    },
    {
      "cell_type": "code",
      "execution_count": 5,
      "id": "AJfkW1_7Ydcb",
      "metadata": {
        "colab": {
          "base_uri": "https://localhost:8080/"
        },
        "id": "AJfkW1_7Ydcb",
        "outputId": "b011d055-0b17-4017-8c6d-4dadb237fd82"
      },
      "outputs": [
        {
          "name": "stdout",
          "output_type": "stream",
          "text": [
            "Collecting faiss-cpu\n",
            "  Downloading faiss_cpu-1.11.0-cp311-cp311-manylinux_2_28_x86_64.whl.metadata (4.8 kB)\n",
            "Requirement already satisfied: numpy<3.0,>=1.25.0 in /usr/local/lib/python3.11/dist-packages (from faiss-cpu) (2.0.2)\n",
            "Requirement already satisfied: packaging in /usr/local/lib/python3.11/dist-packages (from faiss-cpu) (24.2)\n",
            "Downloading faiss_cpu-1.11.0-cp311-cp311-manylinux_2_28_x86_64.whl (31.3 MB)\n",
            "\u001b[2K   \u001b[90m━━━━━━━━━━━━━━━━━━━━━━━━━━━━━━━━━━━━━━━━\u001b[0m \u001b[32m31.3/31.3 MB\u001b[0m \u001b[31m17.8 MB/s\u001b[0m eta \u001b[36m0:00:00\u001b[0m\n",
            "\u001b[?25hInstalling collected packages: faiss-cpu\n",
            "Successfully installed faiss-cpu-1.11.0\n"
          ]
        }
      ],
      "source": [
        "!pip install faiss-cpu"
      ]
    },
    {
      "cell_type": "code",
      "execution_count": null,
      "id": "96c723e6189ab1fd",
      "metadata": {
        "colab": {
          "base_uri": "https://localhost:8080/"
        },
        "id": "96c723e6189ab1fd",
        "outputId": "f13e69bd-bd06-4a3e-8f9e-00c9465cb495"
      },
      "outputs": [
        {
          "name": "stdout",
          "output_type": "stream",
          "text": [
            "Dimensión del índice: 384\n",
            "Número de vectores indexados: 2000\n",
            "Índice entrenado: True\n"
          ]
        }
      ],
      "source": [
        "import faiss\n",
        "\n",
        "# Obtener la dimensión de los embeddings\n",
        "embedding_dim = embeddings.shape[1]\n",
        "# Crear índice FAISS con distancia euclidiana (L2)\n",
        "index = faiss.IndexFlatL2(embedding_dim)\n",
        "# Agregar vectores al índice\n",
        "index.add(embeddings.astype('float32'))\n",
        "\n",
        "print(f\"Dimensión del índice: {index.d}\")\n",
        "print(f\"Número de vectores indexados: {index.ntotal}\")\n",
        "print(f\"Índice entrenado: {index.is_trained}\")"
      ]
    },
    {
      "cell_type": "markdown",
      "id": "40462a067ca2d379",
      "metadata": {
        "id": "40462a067ca2d379"
      },
      "source": [
        "## Parte 4: Consulta Semántica\n",
        "### Actividad\n",
        "\n",
        "1. Escribe una consulta en lenguaje natural. Ejemplos:\n",
        "\n",
        "    * \"God, religion, and spirituality\"\n",
        "    * \"space exploration\"\n",
        "    * \"car maintenance\"\n",
        "\n",
        "2. Codifica la consulta utilizando el mismo modelo de embeddings. Cuando uses E5, antepon `\"query: \"` a la consulta.\n",
        "3. Recupera los 5 documentos más relevantes con `index.search(...)`.\n",
        "4. Muestra los textos de los documentos recuperados (puedes mostrar solo los primeros 500 caracteres de cada uno)."
      ]
    },
    {
      "cell_type": "code",
      "execution_count": 7,
      "id": "aad085806124c709",
      "metadata": {
        "colab": {
          "base_uri": "https://localhost:8080/"
        },
        "id": "aad085806124c709",
        "outputId": "de5abce6-bb06-496a-bb83-1438aaa74ae7"
      },
      "outputs": [
        {
          "name": "stdout",
          "output_type": "stream",
          "text": [
            "Consulta: 'space exploration'\n",
            "Documentos más relevantes:\n",
            "\n",
            "Documento 1 (índice 495, distancia: 1.0018):\n",
            "I am posting this for a friend without internet access. Please inquire\n",
            "to the phone number and address listed.\n",
            "---------------------------------------------------------------------\n",
            "\n",
            "\"Space: Teaching's Newest Frontier\"\n",
            "Sponsored by the Planetary Studies Foundation\n",
            "\n",
            "The Planetary Studies Foundation is sponsoring a one week class for\n",
            "teachers called \"Space: Teaching's Newest Frontier.\" The class will be\n",
            "held at the Sheraton Suites in Elk Grove, Illinois from June 14 through\n",
            "June 18. Participants wh...\n",
            "--------------------------------------------------------------------------------\n",
            "Documento 2 (índice 1643, distancia: 1.1204):\n",
            "\n",
            "Well, here goes.\n",
            "\n",
            "The first item of business is to establish the importance space life\n",
            "sciences in the whole of scheme of humankind.  I mean compared\n",
            "to football and baseball, the average joe schmoe doesn't seem interested\n",
            "or even curious about spaceflight.  I think that this forum can\n",
            "make a major change in that lack of insight and education.\n",
            "\n",
            "All of us, in our own way, can contribute to a comprehensive document\n",
            "which can be released to the general public around the world.  The\n",
            "document would ...\n",
            "--------------------------------------------------------------------------------\n",
            "Documento 3 (índice 786, distancia: 1.1357):\n",
            "Ron Miller is a space artist with a long and distinguished career.  \n",
            "I've admired both his paintings (remember the USPS Solar System\n",
            "Exploration Stamps last year?) and his writings on the history of\n",
            "spaceflight.  For several years he's been working on a *big* project\n",
            "which is almost ready to hit the streets.  A brochure from his\n",
            "publisher has landed in my mailbox, and I thought it was cool enough\n",
            "to type in part of it (it's rather long).  Especially given the Net's\n",
            "strong interest in vaporware s...\n",
            "--------------------------------------------------------------------------------\n",
            "Documento 4 (índice 1199, distancia: 1.2009):\n",
            "Any comments on the absorbtion of the Office of Exploration into the\n",
            "Office of Space Sciences and the reassignment of Griffin to the \"Chief\n",
            "Engineer\" position?  Is this just a meaningless administrative\n",
            "shuffle, or does this bode ill for SEI?\n",
            "\n",
            "In my opinion, this seems like a Bad Thing, at least on the surface.\n",
            "Griffin seemed to be someone who was actually interested in getting\n",
            "things done, and who was willing to look an innovative approaches to\n",
            "getting things done faster, better, and cheaper.  ...\n",
            "--------------------------------------------------------------------------------\n",
            "Documento 5 (índice 25, distancia: 1.2509):\n",
            "AW&ST  had a brief blurb on a Manned Lunar Exploration confernce\n",
            "May 7th  at Crystal City Virginia, under the auspices of AIAA.\n",
            "\n",
            "Does anyone know more about this?  How much, to attend????\n",
            "\n",
            "Anyone want to go?...\n",
            "--------------------------------------------------------------------------------\n"
          ]
        }
      ],
      "source": [
        "# Definir consulta\n",
        "query = \"space exploration\"\n",
        "\n",
        "# Codificar la consulta usando el mismo modelo\n",
        "query_embedding = model.encode([query], convert_to_tensor=False)\n",
        "query_embedding = np.array(query_embedding).astype('float32')\n",
        "\n",
        "# Buscar los 5 documentos más relevantes\n",
        "k = 5\n",
        "distances, indices = index.search(query_embedding, k)\n",
        "\n",
        "# Mostrar resultados\n",
        "print(f\"Consulta: '{query}'\")\n",
        "print(f\"Documentos más relevantes:\\n\")\n",
        "\n",
        "for i, (idx, dist) in enumerate(zip(indices[0], distances[0])):\n",
        "    print(f\"Documento {i+1} (índice {idx}, distancia: {dist:.4f}):\")\n",
        "    print(f\"{docs[idx][:500]}...\")\n",
        "    print(\"-\" * 80)"
      ]
    },
    {
      "cell_type": "markdown",
      "id": "2dc9e5e7815c7508",
      "metadata": {
        "id": "2dc9e5e7815c7508"
      },
      "source": []
    }
  ],
  "metadata": {
    "colab": {
      "provenance": []
    },
    "kernelspec": {
      "display_name": "Python 3",
      "language": "python",
      "name": "python3"
    },
    "language_info": {
      "codemirror_mode": {
        "name": "ipython",
        "version": 2
      },
      "file_extension": ".py",
      "mimetype": "text/x-python",
      "name": "python",
      "nbconvert_exporter": "python",
      "pygments_lexer": "ipython2",
      "version": "2.7.6"
    },
    "widgets": {
      "application/vnd.jupyter.widget-state+json": {
        "185e4d89b1e1474f884d86c0f8485b5f": {
          "model_module": "@jupyter-widgets/controls",
          "model_module_version": "1.5.0",
          "model_name": "HBoxModel",
          "state": {
            "_dom_classes": [],
            "_model_module": "@jupyter-widgets/controls",
            "_model_module_version": "1.5.0",
            "_model_name": "HBoxModel",
            "_view_count": null,
            "_view_module": "@jupyter-widgets/controls",
            "_view_module_version": "1.5.0",
            "_view_name": "HBoxView",
            "box_style": "",
            "children": [
              "IPY_MODEL_19e5227972044e79b2992b7d10e12ac6",
              "IPY_MODEL_973623e67c9f4612ad6257d053f66219",
              "IPY_MODEL_5dc7b59ad0f14f1f9125a1825d076ea7"
            ],
            "layout": "IPY_MODEL_583f847902ae4981a2976834b9a7a10f"
          }
        },
        "19e5227972044e79b2992b7d10e12ac6": {
          "model_module": "@jupyter-widgets/controls",
          "model_module_version": "1.5.0",
          "model_name": "HTMLModel",
          "state": {
            "_dom_classes": [],
            "_model_module": "@jupyter-widgets/controls",
            "_model_module_version": "1.5.0",
            "_model_name": "HTMLModel",
            "_view_count": null,
            "_view_module": "@jupyter-widgets/controls",
            "_view_module_version": "1.5.0",
            "_view_name": "HTMLView",
            "description": "",
            "description_tooltip": null,
            "layout": "IPY_MODEL_3e3ef030850f4f4f922bfe9c02221505",
            "placeholder": "​",
            "style": "IPY_MODEL_d6af6e2b1cdb49c1b1d715b75fc5513f",
            "value": "Batches: 100%"
          }
        },
        "3e3ef030850f4f4f922bfe9c02221505": {
          "model_module": "@jupyter-widgets/base",
          "model_module_version": "1.2.0",
          "model_name": "LayoutModel",
          "state": {
            "_model_module": "@jupyter-widgets/base",
            "_model_module_version": "1.2.0",
            "_model_name": "LayoutModel",
            "_view_count": null,
            "_view_module": "@jupyter-widgets/base",
            "_view_module_version": "1.2.0",
            "_view_name": "LayoutView",
            "align_content": null,
            "align_items": null,
            "align_self": null,
            "border": null,
            "bottom": null,
            "display": null,
            "flex": null,
            "flex_flow": null,
            "grid_area": null,
            "grid_auto_columns": null,
            "grid_auto_flow": null,
            "grid_auto_rows": null,
            "grid_column": null,
            "grid_gap": null,
            "grid_row": null,
            "grid_template_areas": null,
            "grid_template_columns": null,
            "grid_template_rows": null,
            "height": null,
            "justify_content": null,
            "justify_items": null,
            "left": null,
            "margin": null,
            "max_height": null,
            "max_width": null,
            "min_height": null,
            "min_width": null,
            "object_fit": null,
            "object_position": null,
            "order": null,
            "overflow": null,
            "overflow_x": null,
            "overflow_y": null,
            "padding": null,
            "right": null,
            "top": null,
            "visibility": null,
            "width": null
          }
        },
        "45a1581d43ef444cb6b99fc583116083": {
          "model_module": "@jupyter-widgets/controls",
          "model_module_version": "1.5.0",
          "model_name": "ProgressStyleModel",
          "state": {
            "_model_module": "@jupyter-widgets/controls",
            "_model_module_version": "1.5.0",
            "_model_name": "ProgressStyleModel",
            "_view_count": null,
            "_view_module": "@jupyter-widgets/base",
            "_view_module_version": "1.2.0",
            "_view_name": "StyleView",
            "bar_color": null,
            "description_width": ""
          }
        },
        "53c2b2a5ccbd4c9ab0b287206ca37353": {
          "model_module": "@jupyter-widgets/base",
          "model_module_version": "1.2.0",
          "model_name": "LayoutModel",
          "state": {
            "_model_module": "@jupyter-widgets/base",
            "_model_module_version": "1.2.0",
            "_model_name": "LayoutModel",
            "_view_count": null,
            "_view_module": "@jupyter-widgets/base",
            "_view_module_version": "1.2.0",
            "_view_name": "LayoutView",
            "align_content": null,
            "align_items": null,
            "align_self": null,
            "border": null,
            "bottom": null,
            "display": null,
            "flex": null,
            "flex_flow": null,
            "grid_area": null,
            "grid_auto_columns": null,
            "grid_auto_flow": null,
            "grid_auto_rows": null,
            "grid_column": null,
            "grid_gap": null,
            "grid_row": null,
            "grid_template_areas": null,
            "grid_template_columns": null,
            "grid_template_rows": null,
            "height": null,
            "justify_content": null,
            "justify_items": null,
            "left": null,
            "margin": null,
            "max_height": null,
            "max_width": null,
            "min_height": null,
            "min_width": null,
            "object_fit": null,
            "object_position": null,
            "order": null,
            "overflow": null,
            "overflow_x": null,
            "overflow_y": null,
            "padding": null,
            "right": null,
            "top": null,
            "visibility": null,
            "width": null
          }
        },
        "583f847902ae4981a2976834b9a7a10f": {
          "model_module": "@jupyter-widgets/base",
          "model_module_version": "1.2.0",
          "model_name": "LayoutModel",
          "state": {
            "_model_module": "@jupyter-widgets/base",
            "_model_module_version": "1.2.0",
            "_model_name": "LayoutModel",
            "_view_count": null,
            "_view_module": "@jupyter-widgets/base",
            "_view_module_version": "1.2.0",
            "_view_name": "LayoutView",
            "align_content": null,
            "align_items": null,
            "align_self": null,
            "border": null,
            "bottom": null,
            "display": null,
            "flex": null,
            "flex_flow": null,
            "grid_area": null,
            "grid_auto_columns": null,
            "grid_auto_flow": null,
            "grid_auto_rows": null,
            "grid_column": null,
            "grid_gap": null,
            "grid_row": null,
            "grid_template_areas": null,
            "grid_template_columns": null,
            "grid_template_rows": null,
            "height": null,
            "justify_content": null,
            "justify_items": null,
            "left": null,
            "margin": null,
            "max_height": null,
            "max_width": null,
            "min_height": null,
            "min_width": null,
            "object_fit": null,
            "object_position": null,
            "order": null,
            "overflow": null,
            "overflow_x": null,
            "overflow_y": null,
            "padding": null,
            "right": null,
            "top": null,
            "visibility": null,
            "width": null
          }
        },
        "5dc7b59ad0f14f1f9125a1825d076ea7": {
          "model_module": "@jupyter-widgets/controls",
          "model_module_version": "1.5.0",
          "model_name": "HTMLModel",
          "state": {
            "_dom_classes": [],
            "_model_module": "@jupyter-widgets/controls",
            "_model_module_version": "1.5.0",
            "_model_name": "HTMLModel",
            "_view_count": null,
            "_view_module": "@jupyter-widgets/controls",
            "_view_module_version": "1.5.0",
            "_view_name": "HTMLView",
            "description": "",
            "description_tooltip": null,
            "layout": "IPY_MODEL_53c2b2a5ccbd4c9ab0b287206ca37353",
            "placeholder": "​",
            "style": "IPY_MODEL_7183f16f1fcd455cb0bf81a7159020d2",
            "value": " 63/63 [03:00&lt;00:00,  1.61it/s]"
          }
        },
        "7183f16f1fcd455cb0bf81a7159020d2": {
          "model_module": "@jupyter-widgets/controls",
          "model_module_version": "1.5.0",
          "model_name": "DescriptionStyleModel",
          "state": {
            "_model_module": "@jupyter-widgets/controls",
            "_model_module_version": "1.5.0",
            "_model_name": "DescriptionStyleModel",
            "_view_count": null,
            "_view_module": "@jupyter-widgets/base",
            "_view_module_version": "1.2.0",
            "_view_name": "StyleView",
            "description_width": ""
          }
        },
        "973623e67c9f4612ad6257d053f66219": {
          "model_module": "@jupyter-widgets/controls",
          "model_module_version": "1.5.0",
          "model_name": "FloatProgressModel",
          "state": {
            "_dom_classes": [],
            "_model_module": "@jupyter-widgets/controls",
            "_model_module_version": "1.5.0",
            "_model_name": "FloatProgressModel",
            "_view_count": null,
            "_view_module": "@jupyter-widgets/controls",
            "_view_module_version": "1.5.0",
            "_view_name": "ProgressView",
            "bar_style": "success",
            "description": "",
            "description_tooltip": null,
            "layout": "IPY_MODEL_eb0ec5dc3b5b4949b6697766488379d4",
            "max": 63,
            "min": 0,
            "orientation": "horizontal",
            "style": "IPY_MODEL_45a1581d43ef444cb6b99fc583116083",
            "value": 63
          }
        },
        "d6af6e2b1cdb49c1b1d715b75fc5513f": {
          "model_module": "@jupyter-widgets/controls",
          "model_module_version": "1.5.0",
          "model_name": "DescriptionStyleModel",
          "state": {
            "_model_module": "@jupyter-widgets/controls",
            "_model_module_version": "1.5.0",
            "_model_name": "DescriptionStyleModel",
            "_view_count": null,
            "_view_module": "@jupyter-widgets/base",
            "_view_module_version": "1.2.0",
            "_view_name": "StyleView",
            "description_width": ""
          }
        },
        "eb0ec5dc3b5b4949b6697766488379d4": {
          "model_module": "@jupyter-widgets/base",
          "model_module_version": "1.2.0",
          "model_name": "LayoutModel",
          "state": {
            "_model_module": "@jupyter-widgets/base",
            "_model_module_version": "1.2.0",
            "_model_name": "LayoutModel",
            "_view_count": null,
            "_view_module": "@jupyter-widgets/base",
            "_view_module_version": "1.2.0",
            "_view_name": "LayoutView",
            "align_content": null,
            "align_items": null,
            "align_self": null,
            "border": null,
            "bottom": null,
            "display": null,
            "flex": null,
            "flex_flow": null,
            "grid_area": null,
            "grid_auto_columns": null,
            "grid_auto_flow": null,
            "grid_auto_rows": null,
            "grid_column": null,
            "grid_gap": null,
            "grid_row": null,
            "grid_template_areas": null,
            "grid_template_columns": null,
            "grid_template_rows": null,
            "height": null,
            "justify_content": null,
            "justify_items": null,
            "left": null,
            "margin": null,
            "max_height": null,
            "max_width": null,
            "min_height": null,
            "min_width": null,
            "object_fit": null,
            "object_position": null,
            "order": null,
            "overflow": null,
            "overflow_x": null,
            "overflow_y": null,
            "padding": null,
            "right": null,
            "top": null,
            "visibility": null,
            "width": null
          }
        }
      }
    }
  },
  "nbformat": 4,
  "nbformat_minor": 5
}
